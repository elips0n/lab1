{
 "cells": [
  {
   "cell_type": "markdown",
   "metadata": {},
   "source": [
    "## Лабораторная работа по курсу \"Искусственный интеллект\"\n",
    "## Многослойный персептрон\n",
    "\n",
    "| Студент | Семенов |\n",
    "|---------|---------|\n",
    "| Группа  | 6       |\n",
    "\n",
    "Для начала, скачаем датасет MNIST. Используйте `wget` или `curl`, либо скачайте вручную [по ссылке](https://raw.githubusercontent.com/shwars/NeuroWorkshop/master/Data/MNIST/mnist.pkl.gz)."
   ]
  },
  {
   "cell_type": "code",
   "execution_count": 21,
   "metadata": {
    "tags": []
   },
   "outputs": [
    {
     "name": "stderr",
     "output_type": "stream",
     "text": [
      "  % Total    % Received % Xferd  Average Speed   Time    Time     Time  Current\n",
      "                                 Dload  Upload   Total   Spent    Left  Speed\n",
      "\n",
      "  0     0    0     0    0     0      0      0 --:--:-- --:--:-- --:--:--     0\n",
      "  0     0    0     0    0     0      0      0 --:--:-- --:--:-- --:--:--     0\n",
      "curl: (35) schannel: next InitializeSecurityContext failed: Unknown error (0x80092012) - Функция отзыва не смогла произвести проверку отзыва для сертификата.\n",
      "gzip: mnist.pkl.gz: No such file or directory\n"
     ]
    }
   ],
   "source": [
    "#!wget https://raw.githubusercontent.com/shwars/NeuroWorkshop/master/Data/MNIST/mnist.pkl.gz\n",
    "!curl -o mnist.pkl.gz https://raw.githubusercontent.com/shwars/NeuroWorkshop/master/Data/MNIST/mnist.pkl.gz\n",
    "!gzip -d mnist.pkl.gz"
   ]
  },
  {
   "cell_type": "markdown",
   "metadata": {},
   "source": [
    "Теперь загружаем датасет:"
   ]
  },
  {
   "cell_type": "code",
   "execution_count": 22,
   "metadata": {},
   "outputs": [],
   "source": [
    "import pickle\n",
    "with open('mnist.pkl','rb') as f:\n",
    "    MNIST = pickle.load(f)"
   ]
  },
  {
   "cell_type": "code",
   "execution_count": 23,
   "metadata": {},
   "outputs": [],
   "source": [
    "labels = MNIST['Train']['Labels']\n",
    "data = MNIST['Train']['Features']"
   ]
  },
  {
   "cell_type": "markdown",
   "metadata": {},
   "source": [
    "Смотрим на то, какие данные получились:"
   ]
  },
  {
   "cell_type": "code",
   "execution_count": 24,
   "metadata": {},
   "outputs": [
    {
     "data": {
      "text/plain": [
       "(42000, 784)"
      ]
     },
     "execution_count": 24,
     "metadata": {},
     "output_type": "execute_result"
    }
   ],
   "source": [
    "data.shape"
   ]
  },
  {
   "cell_type": "markdown",
   "metadata": {},
   "source": [
    "Используйте Scikit Learn для разбиения данных на обучающую и тестовую выборку"
   ]
  },
  {
   "cell_type": "code",
   "execution_count": 36,
   "metadata": {},
   "outputs": [],
   "source": [
    "from sklearn.model_selection import train_test_split\n",
    "from sklearn.metrics import confusion_matrix\n",
    "np.random.seed(0)\n",
    "X_train, X_test, y_train, y_test = train_test_split(data, labels, test_size=0.2, random_state=0)"
   ]
  },
  {
   "cell_type": "markdown",
   "metadata": {},
   "source": [
    "Датасет загружен, теперь можно его нормализовать"
   ]
  },
  {
   "cell_type": "code",
   "execution_count": 37,
   "metadata": {},
   "outputs": [],
   "source": [
    "X_test = X_test / 255.0\n",
    "X_train = X_train / 255.0"
   ]
  },
  {
   "cell_type": "markdown",
   "metadata": {},
   "source": [
    "Для последующей обработки данных, нужно определеить нейросеть и слои, которые могут в нее войти.\n",
    "Нам понадобятся линейные слои, softmax, tanh, и cross_entropy_loss\n",
    "Также полезным будет класс Trainer(хотя это могла быть и функция), которая проводит обучение в течение нескольких эпох. Для отрисовки используется класс Plotter(принимает массив со значениями функции потерь и accuracy)"
   ]
  },
  {
   "cell_type": "code",
   "execution_count": 38,
   "metadata": {},
   "outputs": [],
   "source": [
    "import numpy as np\n",
    "\n",
    "class Linear:\n",
    "    def __init__(self, nin, nout):\n",
    "        self.W = np.random.normal(0, 1.0 / np.sqrt(nin), (nout, nin))\n",
    "        self.b = np.zeros((1, nout))\n",
    "        self.dW = np.zeros_like(self.W)\n",
    "        self.db = np.zeros_like(self.b)\n",
    "\n",
    "    def forward(self, x):\n",
    "        self.x = x\n",
    "        return np.dot(x, self.W.T) + self.b\n",
    "\n",
    "    def backward(self, dz):\n",
    "        dx = np.dot(dz, self.W)\n",
    "        dW = np.dot(dz.T, self.x)\n",
    "        db = dz.sum(axis=0)\n",
    "        self.dW = dW\n",
    "        self.db = db\n",
    "        return dx\n",
    "\n",
    "    def update(self, lr):\n",
    "        self.W -= lr * self.dW\n",
    "        self.b -= lr * self.db\n",
    "\n",
    "\n",
    "class Softmax:\n",
    "    def forward(self, z):\n",
    "        self.z = z\n",
    "        zmax = z.max(axis=1, keepdims=True)\n",
    "        expz = np.exp(z - zmax)\n",
    "        Z = expz.sum(axis=1, keepdims=True)\n",
    "        return expz / Z\n",
    "\n",
    "    def backward(self, dp):\n",
    "        p = self.forward(self.z)\n",
    "        pdp = p * dp\n",
    "        return pdp - p * pdp.sum(axis=1, keepdims=True)\n",
    "\n",
    "\n",
    "class CrossEntropyLoss:\n",
    "    def forward(self, p, y):\n",
    "        self.p = p\n",
    "        self.y = y\n",
    "        p_of_y = p[np.arange(len(y)), y]\n",
    "        log_prob = np.log(p_of_y)\n",
    "        return -log_prob.mean()\n",
    "\n",
    "    def backward(self, loss):\n",
    "        dlog_softmax = np.zeros_like(self.p)\n",
    "        dlog_softmax[np.arange(len(self.y)), self.y] -= 1.0 / len(self.y)\n",
    "        return dlog_softmax / self.p\n",
    "\n",
    "class Tanh:\n",
    "    def forward(self,x):\n",
    "        y = np.tanh(x)\n",
    "        self.y = y\n",
    "        return y\n",
    "    def backward(self,dy):\n",
    "        return (1.0-self.y**2)*dy"
   ]
  },
  {
   "cell_type": "code",
   "execution_count": 39,
   "metadata": {},
   "outputs": [],
   "source": [
    "class Net:\n",
    "    def __init__(self, lr=0.1, final_loss=CrossEntropyLoss()):\n",
    "        self.layers = []\n",
    "        self.final_loss = final_loss\n",
    "        self.lr = lr\n",
    "\n",
    "    def add(self, l):\n",
    "        self.layers.append(l)\n",
    "\n",
    "    def set_final_loss(self, loss):\n",
    "        self.final_loss = loss\n",
    "\n",
    "    def set_learning_rate(self, lr):\n",
    "        self.lr = lr\n",
    "\n",
    "    def forward(self, X):\n",
    "        for l in self.layers:\n",
    "            X = l.forward(X)\n",
    "        return X\n",
    "\n",
    "    def predict(self, X):\n",
    "        p = self.forward(X)\n",
    "        pred = np.argmax(p, axis=1)\n",
    "        return pred\n",
    "\n",
    "    def loss_n_accuracy(self, X, y, loss=None):\n",
    "        if loss is None:\n",
    "            loss = self.final_loss\n",
    "        p = self.forward(X)\n",
    "        l = loss.forward(p, y)\n",
    "        pred = np.argmax(p, axis=1)\n",
    "        acc = (pred==y).mean()\n",
    "        return l, acc\n",
    "\n",
    "    def train_epoch(self, X, y, batch_size=4):\n",
    "        for i in range(0, len(X), batch_size):\n",
    "            Xb = X[i:i + batch_size]\n",
    "            yb = y[i:i + batch_size]\n",
    "\n",
    "            p = self.forward(Xb)\n",
    "            l = self.final_loss.forward(p, yb)\n",
    "            dp = self.final_loss.backward(l)\n",
    "            dx = self.backward(dp)\n",
    "            self.update()\n",
    "\n",
    "\n",
    "    def backward(self, z):\n",
    "        for l in self.layers[::-1]:\n",
    "            z = l.backward(z)\n",
    "        return z\n",
    "\n",
    "    def update(self):\n",
    "        for l in self.layers:\n",
    "            if 'update' in l.__dir__():\n",
    "                l.update(self.lr)"
   ]
  },
  {
   "cell_type": "code",
   "execution_count": 40,
   "metadata": {},
   "outputs": [],
   "source": [
    "class Trainer():\n",
    "    def __init__(self, net):\n",
    "        self.net = net\n",
    "\n",
    "    def train_epochs(self, X, y, X_test, y_test, n_epoch, batch_size=4, loss=None):\n",
    "\n",
    "        train_acc = np.empty((n_epoch + 1, 3))\n",
    "        train_acc[0] = [0,0,0]\n",
    "        valid_acc = np.empty((n_epoch + 1, 3))\n",
    "        valid_acc[0] = [0,0,0]\n",
    "\n",
    "        for epoch in range(1, n_epoch + 1):\n",
    "            self.net.train_epoch(X, y)\n",
    "            tloss, tacc = self.net.loss_n_accuracy(X, y, loss)\n",
    "            train_acc[epoch, :] = [epoch, tloss, tacc]\n",
    "            vloss, vacc = self.net.loss_n_accuracy(X_test, y_test, loss)\n",
    "            valid_acc[epoch, :] = [epoch, vloss, vacc]\n",
    "\n",
    "        return train_acc, valid_acc"
   ]
  },
  {
   "cell_type": "code",
   "execution_count": 41,
   "metadata": {},
   "outputs": [],
   "source": [
    "import matplotlib.pyplot as plt\n",
    "class Plotter():\n",
    "\n",
    "    def __plot_training_progress__(self, X, y, fig, ax):\n",
    "        styles = ['k--', 'g-']\n",
    "        # remove previous plot\n",
    "        while ax.lines:\n",
    "            ax.lines.pop()\n",
    "        # draw updated lines\n",
    "        for i in range(len(y)):\n",
    "            ax.plot(X, y[i], styles[i])\n",
    "        ax.legend(ax.lines, ['training accuracy', 'validation accuracy'],\n",
    "                  loc='upper center', ncol=2)\n",
    "\n",
    "\n",
    "    def plot(self, train_acc, valid_acc):\n",
    "        n_epoch = len(train_acc)\n",
    "        fig, ax = plt.subplots(1,1)\n",
    "        ax.set_xlim(0, n_epoch + 1)\n",
    "        ax.set_ylim(0, 1)\n",
    "        ax.set_ylim(0, max(max(train_acc[:, 2]), max(valid_acc[:, 2])) * 1.1)\n",
    "        self.__plot_training_progress__(train_acc[:, 0], (train_acc[:, 2],\n",
    "                                                     valid_acc[:, 2]), fig, ax)\n",
    "        fig.canvas.draw()\n",
    "        fig.canvas.flush_events()"
   ]
  },
  {
   "cell_type": "markdown",
   "metadata": {},
   "source": [
    "Создадим однослойную нейросеть, состоящую из линейного слоя и Softmax для обработки датасета MNIST. CrossEntropyLoss добавляется в конец сети автоматически, но при необходимости, она может быть заменена на другую функцию. Заодно обучим ее в течение нескольких эпох и выведем confusion matrix - позволяет увидеть количество ложных/верных предсказаний для различных классов."
   ]
  },
  {
   "cell_type": "code",
   "execution_count": 42,
   "metadata": {},
   "outputs": [
    {
     "name": "stdout",
     "output_type": "stream",
     "text": [
      "Accuracy on last epoch 0.919404761904762\n",
      "[[779   0   8   5   2  12   4   6   4  13]\n",
      " [  0 938   6   3   7   3   0   4   9   4]\n",
      " [  2   5 769  16   3   1   7  12   3   2]\n",
      " [  2   3  12 771   2  27   1   4  21   8]\n",
      " [  3   0  14   1 768   6  10   9   2  30]\n",
      " [  5   4   4  36   2 664  12   2  28   8]\n",
      " [ 14   2  15   6  11  10 806   1   9   0]\n",
      " [  0   1  12   6   1   5   0 830   3  25]\n",
      " [  7   7  18   8   2  23   1   3 680   4]\n",
      " [  1   1   2  11  29   5   0  28   9 718]]\n"
     ]
    },
    {
     "data": {
      "image/png": "[encoded data removed]",
      "text/plain": [
       "<Figure size 432x288 with 1 Axes>"
      ]
     },
     "metadata": {
      "needs_background": "light"
     },
     "output_type": "display_data"
    }
   ],
   "source": [
    "net = Net(lr=0.005)\n",
    "net.add(Linear(28**2, 10))\n",
    "net.add(Softmax())\n",
    "\n",
    "trainer = Trainer(net)\n",
    "tacc, vacc = trainer.train_epochs(X_train, y_train, X_test, y_test, 10)\n",
    "Plotter().plot(tacc, vacc)\n",
    "print(\"Accuracy on last epoch {}\".format(vacc[-1,-1]))\n",
    "print(confusion_matrix(net.predict(X_test), y_test))\n",
    "plt.show()"
   ]
  },
  {
   "cell_type": "markdown",
   "metadata": {},
   "source": [
    "Теперь, загрузим датасет FashionMNIST и опробуем на нем двуслойную сеть(на процессоре она уже обучается достаточно долго)."
   ]
  },
  {
   "cell_type": "code",
   "execution_count": 44,
   "metadata": {},
   "outputs": [],
   "source": [
    "import tensorflow as tf\n",
    "(X_train, y_train), (X_test, y_test) = tf.keras.datasets.fashion_mnist.load_data()\n",
    "X_train = X_train / 255.0\n",
    "X_test = X_test / 255.0"
   ]
  },
  {
   "cell_type": "code",
   "execution_count": 45,
   "metadata": {},
   "outputs": [
    {
     "name": "stdout",
     "output_type": "stream",
     "text": [
      "Accuracy on last epoch 0.8611\n",
      "[[777   1   7  15   0   0 106   0   1   0]\n",
      " [  1 957   1   8   1   0   1   0   1   0]\n",
      " [ 26   2 738  11  71   0 103   0   4   0]\n",
      " [ 71  32  18 921  57   1  62   0   8   0]\n",
      " [  8   4 170  24 820   0  94   0   5   0]\n",
      " [  2   0   1   1   0 943   1  34   3  17]\n",
      " [ 97   2  53  16  46   0 602   0   2   0]\n",
      " [  0   0   0   0   0  39   0 950   4  51]\n",
      " [ 18   2  12   4   5   2  31   0 972   1]\n",
      " [  0   0   0   0   0  15   0  16   0 931]]\n"
     ]
    },
    {
     "data": {
      "image/png": "[encoded data removed]",
      "text/plain": [
       "<Figure size 432x288 with 1 Axes>"
      ]
     },
     "metadata": {
      "needs_background": "light"
     },
     "output_type": "display_data"
    }
   ],
   "source": [
    "net = Net(lr=0.01)\n",
    "net.add(Linear(28**2, 28**2 // 2))\n",
    "net.add(Tanh())\n",
    "net.add(Linear(28**2 // 2, 10))\n",
    "net.add(Softmax())\n",
    "\n",
    "X_train = X_train.reshape(X_train.shape[0], 28**2)\n",
    "X_test = X_test.reshape(X_test.shape[0], 28**2)\n",
    "\n",
    "trainer = Trainer(net)\n",
    "tacc, vacc = trainer.train_epochs(X_train, y_train, X_test, y_test, 5)\n",
    "Plotter().plot(tacc, vacc)\n",
    "print(\"Accuracy on last epoch {}\".format(vacc[-1,-1]))\n",
    "print(confusion_matrix(net.predict(X_test), y_test))\n",
    "plt.show()"
   ]
  },
  {
   "cell_type": "markdown",
   "metadata": {},
   "source": [
    "Заметно, что точность несколько уменьшилась."
   ]
  },
  {
   "cell_type": "markdown",
   "metadata": {},
   "source": [
    "Благодаря данной работе я узнал об устройстве многослойного персептрона, способах его обучения и используемом для этого математическом аппарате."
   ]
  }
 ],
 "metadata": {
  "kernelspec": {
   "display_name": "Python 3",
   "language": "python",
   "name": "python3"
  },
  "language_info": {
   "codemirror_mode": {
    "name": "ipython",
    "version": 3
   },
   "file_extension": ".py",
   "mimetype": "text/x-python",
   "name": "python",
   "nbconvert_exporter": "python",
   "pygments_lexer": "ipython3",
   "version": "3.8.3"
  }
 },
 "nbformat": 4,
 "nbformat_minor": 2
}
